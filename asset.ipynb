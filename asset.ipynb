{
 "metadata": {
  "name": "asset"
 }, 
 "nbformat": 2, 
 "worksheets": [
  {
   "cells": [
    {
     "cell_type": "markdown", 
     "source": [
      "So you're planning your retirement, and you've already done the difficult part: assessing your capacity for risk, selecting an appropriate asset allocation, and selected a reasonably tax-efficient placement of funds.  If you haven't done this yet, I suggest reading <em>The Four Pillars of Investing</em> and poking around on the Bogleheads forums for a while.  The next step (following the <a href='http://www.bogleheads.org/wiki/Asset_allocation_in_multiple_accounts#Principles_of_asset_allocation_across_multiple_accounts'>principles of asset allocation across multiple accounts</a>), will be to minimize the blended expense ratio across all accounts.  You could do this yourself by hand, but fortunately, this is easily expressible as a linear programming problem, which computers can optimize quickly.  Here I will walk through a basic Python implementation of minimizing the blended expense ratio given some simple choices made for an asset allocation.", 
      "", 
      "We'll begin with some boilerplate, importing the libraries and instantiating our linear programming problem to be solved."
     ]
    }, 
    {
     "cell_type": "code", 
     "collapsed": true, 
     "input": [
      "from pulp import *", 
      "from lxml import etree", 
      "import requests", 
      "", 
      "prob = LpProblem(\"Assets\", LpMinimize)"
     ], 
     "language": "python", 
     "outputs": [], 
     "prompt_number": 1
    }, 
    {
     "cell_type": "markdown", 
     "source": [
      "Here's our basic asset allocation: 80% stocks, 20% bonds.  10% of the stock allocation is in REITs, the rest is split evenly between US and International.  This is not necessarily the best, or even a good, asset allocation, but it's chosen for numerical convenience and to set up multiple interesting asset classes. The allocation can be expanded or reduced depending on your actual allocation.  Rather than specifying the asset-classes for each fund, we'll just map Morningstar categories to the asset classes we're using.  If we wanted a more complex breakdown, we'd need to parse a different Morningstar page containing the blend information and regional breakdowns, but this is left as an exercise for the reader.  Note that they don't necessarily have to sum to 1. Given the breakdown we've chosen, we'll compute the actual dollar values we want for each asset class."
     ]
    }, 
    {
     "cell_type": "code", 
     "collapsed": true, 
     "input": [
      "allocation = { 'stock_us'   : 0.36,", 
      "               'stock_intl' : 0.36,", 
      "               'reit'       : 0.08,", 
      "               'bond'       : 0.20 }"
     ], 
     "language": "python", 
     "outputs": [], 
     "prompt_number": 2
    }, 
    {
     "cell_type": "code", 
     "collapsed": true, 
     "input": [
      "category = { 'Mid-Cap Blend' :           { 'stock_us' : 1.0 },", 
      "             'Foreign Large Blend' :     { 'stock_intl' : 1.0 },", 
      "             'Real Estate' :             { 'reit' : 1.0 },", 
      "             'Large Blend' :             { 'stock_us' : 1.0 },", 
      "             'Intermediate-Term Bond' :  { 'bond' : 1.0 },", 
      "             'Foreign Small/Mid Blend' : { 'stock_intl' : 1.0 },", 
      "             'Small Value' :             { 'stock_us' : 1.0 } }"
     ], 
     "language": "python", 
     "outputs": [], 
     "prompt_number": 3
    }, 
    {
     "cell_type": "markdown", 
     "source": [
      "For our purposes, the account balances are fixed, and we want to be able to optimize the share placement within these three accounts.  These are my fund choices and initial share placement.  For the 401(k), I have a fixed set of options, which are fortunately <em>very</em> good.  Due to tax considerations, in my", 
      "personal account I'll only hold equities.  For the IRA, I've allowed REITs and stocks because, at a high-level, I can see that Bonds will exist entirely within the 401(k).  We could just as easily add a bond fund to the IRA, it would just end up at 0."
     ]
    }, 
    {
     "cell_type": "code", 
     "collapsed": true, 
     "input": [
      "assets = {'401k'     : { 'VEMPX' : 1000,", 
      "                         'VTPSX' : 1000,", 
      "                         'VGSNX' : 1000,", 
      "                         'VIIIX' : 1000,", 
      "                         'VBMPX' : 1000 },", 
      "          'ira'      : { 'VTIAX' : 1000,", 
      "                         'VTSAX' : 1000,", 
      "                         'VGSLX' : 1000 },", 
      "          'personal' : { 'VTSAX' : 1000,", 
      "                         'VFWAX' : 1000 } }"
     ], 
     "language": "python", 
     "outputs": [], 
     "prompt_number": 4
    }, 
    {
     "cell_type": "code", 
     "collapsed": true, 
     "input": [
      "funds = {}", 
      "for accounts in assets.keys():", 
      "    for fund in assets[accounts]:", 
      "        funds[fund] = {}"
     ], 
     "language": "python", 
     "outputs": [], 
     "prompt_number": 5
    }, 
    {
     "cell_type": "markdown", 
     "source": [
      "Next, we'll want to look up current prices, expense ratios, and cateogories from Morningstar.  I've chosen Morningstar mostly for convenience, as they label the fields with a vkey attribute which makes for some convenient XPath expressions."
     ]
    }, 
    {
     "cell_type": "code", 
     "collapsed": false, 
     "input": [
      "for fund in funds.keys():", 
      "    params = { 't' : 'XNAS:' + fund, 'region' : 'usa', 'culture' : 'en-US', 'cur' : 'USD' }", 
      "    r = requests.get('http://quotes.morningstar.com/fund/c-header', params=params)", 
      "    tree = etree.fromstring(r.text, etree.HTMLParser())", 
      "    funds[fund]['price'] = float(tree.xpath(", 
      "             \"//span[@vkey='NAV']/text()\")[0].strip())", 
      "    funds[fund]['er'] = float(tree.xpath(", 
      "             \"//span[@vkey='ExpenseRatio']/text()\")[0].strip().rstrip('%'))", 
      "    composition = category[tree.xpath(", 
      "             \"//span[@vkey='MorningstarCategory']/text()\")[0].strip()]", 
      "    funds[fund]['composition'] = composition", 
      "    print fund, '@', funds[fund]['price'], funds[fund]['er']"
     ], 
     "language": "python", 
     "outputs": [
      {
       "output_type": "stream", 
       "stream": "stdout", 
       "text": [
        "VTSAX @ 49.95 0.05", 
        "VFWAX"
       ]
      }, 
      {
       "output_type": "stream", 
       "stream": "stdout", 
       "text": [
        " @ 32.67 0.15", 
        "VIIIX"
       ]
      }, 
      {
       "output_type": "stream", 
       "stream": "stdout", 
       "text": [
        " @ 182.31 0.02", 
        "VTPSX"
       ]
      }, 
      {
       "output_type": "stream", 
       "stream": "stdout", 
       "text": [
        " @ 117.05 0.1", 
        "VGSNX"
       ]
      }, 
      {
       "output_type": "stream", 
       "stream": "stdout", 
       "text": [
        " @ 16.81 0.08", 
        "VEMPX"
       ]
      }, 
      {
       "output_type": "stream", 
       "stream": "stdout", 
       "text": [
        " @ 161.88 0.06", 
        "VBMPX"
       ]
      }, 
      {
       "output_type": "stream", 
       "stream": "stdout", 
       "text": [
        " @ 10.83 0.05", 
        "VTIAX"
       ]
      }, 
      {
       "output_type": "stream", 
       "stream": "stdout", 
       "text": [
        " @ 29.26 0.14", 
        "VGSLX"
       ]
      }, 
      {
       "output_type": "stream", 
       "stream": "stdout", 
       "text": [
        " @ 108.64 0.1"
       ]
      }
     ], 
     "prompt_number": 6
    }, 
    {
     "cell_type": "markdown", 
     "source": [
      "Next, I'll sum the total value of each account and the global value.  Because money is not transferable across account boundaries without incurring painful tax implications, I'll treat these as fixed as well.."
     ]
    }, 
    {
     "cell_type": "code", 
     "collapsed": false, 
     "input": [
      "account_value = {}", 
      "for account in assets.keys():", 
      "    account_value[account] = sum([ shares * funds[fund]['price']", 
      "                                  for (fund, shares)", 
      "                                  in assets[account].items()])", 
      "    print '%s value: %0.2f' % (account, account_value[account])", 
      "v_total = sum(account_value.values())"
     ], 
     "language": "python", 
     "outputs": [
      {
       "output_type": "stream", 
       "stream": "stdout", 
       "text": [
        "401k value: 488880.00", 
        "ira value: 187850.00", 
        "personal value: 82620.00"
       ]
      }
     ], 
     "prompt_number": 7
    }, 
    {
     "cell_type": "code", 
     "collapsed": true, 
     "input": [
      "ideal_value = {}", 
      "for asset_class in allocation.keys():", 
      "    ideal_value[asset_class] = allocation[asset_class] * v_total"
     ], 
     "language": "python", 
     "outputs": [], 
     "prompt_number": 8
    }, 
    {
     "cell_type": "markdown", 
     "source": [
      "We've set up the basic data of interest, so now it's time to get into the meat of the problem.  We begin by creating our variables for the linear programming problem, representing the number of shares we want to hold of each fund within each account.  We'll represent these variables of the form 'account:fund' (e.g. '401k:VBMPX')"
     ]
    }, 
    {
     "cell_type": "code", 
     "collapsed": true, 
     "input": [
      "shares = {}", 
      "", 
      "for account in assets.keys():", 
      "    shares[account] = {}", 
      "    for fund in assets[account]:", 
      "        shares[account][fund] = LpVariable(account + ':' + fund, 0, None)"
     ], 
     "language": "python", 
     "outputs": [], 
     "prompt_number": 9
    }, 
    {
     "cell_type": "markdown", 
     "source": [
      "We need to state what we're going to minimize, so we begin by calculating the expenses associated with each account, the product of price, shares, and expense ratio."
     ]
    }, 
    {
     "cell_type": "code", 
     "collapsed": true, 
     "input": [
      "prob += (sum([funds[x]['er'] * funds[x]['price'] * shares['401k'][x] for x in            ", 
      "              shares['401k'].keys()]) +", 
      "         sum([funds[x]['er'] * funds[x]['price'] * shares['ira'][x] for x in", 
      "              shares['ira'].keys()]) +", 
      "         sum([funds[x]['er'] * funds[x]['price'] * shares['personal'][x] for x in", 
      "              shares['personal'].keys()]))"
     ], 
     "language": "python", 
     "outputs": [], 
     "prompt_number": 10
    }, 
    {
     "cell_type": "markdown", 
     "source": [
      "Next, we want to create some constraints on the solutions.  First, our account balances should be fixed, so for each account, the sum of the product of price and shares is a fixed value."
     ]
    }, 
    {
     "cell_type": "code", 
     "collapsed": true, 
     "input": [
      "prob += (sum([funds[x]['price'] * shares['401k'][x] for x in", 
      "              shares['401k'].keys()]) == account_value['401k'])", 
      "prob += (sum([funds[x]['price'] * shares['ira'][x] for x in", 
      "              shares['ira'].keys()]) == account_value['ira'])", 
      "prob += (sum([funds[x]['price'] * shares['personal'][x] for x in", 
      "              shares['personal'].keys()]) == account_value['personal'])"
     ], 
     "language": "python", 
     "outputs": [], 
     "prompt_number": 11
    }, 
    {
     "cell_type": "markdown", 
     "source": [
      "Now, here's an example of constraint between funds.  My 401(k) offers VIIIX and VEMPX which are the S&P 500 and S&P Completion Index, but if I hold them I want to approximate the total US market.  The appropriate ratio to achieve the total US market is 0.82:0.18 by value."
     ]
    }, 
    {
     "cell_type": "code", 
     "collapsed": true, 
     "input": [
      "prob += (0.18 * funds['VIIIX']['price'] * shares['401k']['VIIIX'] -", 
      "         0.82 * funds['VEMPX']['price'] * shares['401k']['VEMPX'] == 0)"
     ], 
     "language": "python", 
     "outputs": [], 
     "prompt_number": 12
    }, 
    {
     "cell_type": "markdown", 
     "source": [
      "We'll create constraints for each of the asset classes we have to ensure that the total holdings across all accounts match the correct value.  To help us out, we'll start by making a simple function that will select all of a given asset class in a certain account, then use that function to generate the constraints."
     ]
    }, 
    {
     "cell_type": "code", 
     "collapsed": true, 
     "input": [
      "def asset_class_allocation_constraints(account, asset_class):", 
      "    return sum([funds[fund]['composition'][asset_class] *", 
      "                funds[fund]['price'] *", 
      "                shares[account][fund] for fund in shares[account].keys()", 
      "                if asset_class in funds[fund]['composition']])"
     ], 
     "language": "python", 
     "outputs": [], 
     "prompt_number": 13
    }, 
    {
     "cell_type": "code", 
     "collapsed": true, 
     "input": [
      "prob += (sum([asset_class_allocation_constraints(account, 'stock_us')", 
      "              for account in assets.keys()]) ==", 
      "             ideal_value['stock_us'])"
     ], 
     "language": "python", 
     "outputs": [], 
     "prompt_number": 14
    }, 
    {
     "cell_type": "code", 
     "collapsed": true, 
     "input": [
      "prob += (sum([asset_class_allocation_constraints(account, 'stock_intl')", 
      "              for account in assets.keys()]) ==", 
      "             ideal_value['stock_intl'])"
     ], 
     "language": "python", 
     "outputs": [], 
     "prompt_number": 15
    }, 
    {
     "cell_type": "code", 
     "collapsed": true, 
     "input": [
      "prob += (sum([asset_class_allocation_constraints(account, 'reit')", 
      "              for account in assets.keys()]) ==", 
      "             ideal_value['reit'])"
     ], 
     "language": "python", 
     "outputs": [], 
     "prompt_number": 16
    }, 
    {
     "cell_type": "code", 
     "collapsed": true, 
     "input": [
      "prob += (sum([asset_class_allocation_constraints(account, 'bond')", 
      "              for account in assets.keys()]) ==", 
      "             ideal_value['bond'])"
     ], 
     "language": "python", 
     "outputs": [], 
     "prompt_number": 17
    }, 
    {
     "cell_type": "markdown", 
     "source": [
      "One last optional bit, I prefer to hold more than the Vanguard Admiral minima, so I set a constraint at 110% of the threshold."
     ]
    }, 
    {
     "cell_type": "code", 
     "collapsed": true, 
     "input": [
      "prob += (funds['VTSAX']['price'] * shares['ira']['VTSAX'] >= 11000)", 
      "prob += (funds['VGSLX']['price'] * shares['ira']['VGSLX'] >= 11000)", 
      "prob += (funds['VFWAX']['price'] * shares['personal']['VFWAX'] >= 11000)"
     ], 
     "language": "python", 
     "outputs": [], 
     "prompt_number": 18
    }, 
    {
     "cell_type": "markdown", 
     "source": [
      "All of the constraints are set up, so we're ready to optimize our expense ratio.  We'll print out the share holdings for the optimal fund allocation, and the final overall expense ratio."
     ]
    }, 
    {
     "cell_type": "code", 
     "collapsed": false, 
     "input": [
      "prob.solve()", 
      "", 
      "print \"Status: \", LpStatus[prob.status]", 
      "", 
      "for v in prob.variables():", 
      "    print v.name, \"=\", v.varValue", 
      "", 
      "print \"Blended expense ratio\", value(prob.objective)/v_total"
     ], 
     "language": "python", 
     "outputs": [
      {
       "output_type": "stream", 
       "stream": "stdout", 
       "text": [
        "Status:  Optimal", 
        "401k:VBMPX = 14023.084", 
        "401k:VEMPX = 82.999054", 
        "401k:VGSNX = 0.0", 
        "401k:VIIIX = 335.73646", 
        "401k:VTPSX = 2241.4865", 
        "ira:VGSLX = 559.16789", 
        "ira:VTIAX = 0.0", 
        "ira:VTSAX = 2544.5846", 
        "personal:VFWAX = 336.70034", 
        "personal:VTSAX = 1433.8338", 
        "Blended expense ratio 0.0704830643152"
       ]
      }
     ], 
     "prompt_number": 19
    }
   ]
  }
 ]
}