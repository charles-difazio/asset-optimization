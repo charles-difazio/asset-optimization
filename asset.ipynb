{
 "metadata": {
  "name": "asset"
 }, 
 "nbformat": 2, 
 "worksheets": [
  {
   "cells": [
    {
     "cell_type": "markdown", 
     "source": [
      "So you're planning your retirement, and you've already done the difficult part: assessing your capacity for risk, selecting an appropriate asset allocation, and selected a reasonably tax-efficient placement of funds.  If you haven't done this yet, I suggest reading <em>The Four Pillars of Investing</em> and poking around on the Bogleheads forums for a while.  The next step (following the <a href='http://www.bogleheads.org/wiki/Asset_allocation_in_multiple_accounts#Principles_of_asset_allocation_across_multiple_accounts'>principles of asset allocation across multiple accounts</a>), will be to minimize the blended expense ratio across all accounts.  You could do this yourself by hand, but fortunately, this is easily expressible as a linear programming problem, which computers can optimize quickly.  Here I will walk through a basic Python implementation of minimizing the blended expense ratio given some simple choices made for an asset allocation.", 
      "", 
      "We'll begin with some boilerplate, importing the libraries and instantiating our linear programming problem to be solved."
     ]
    }, 
    {
     "cell_type": "code", 
     "collapsed": true, 
     "input": [
      "from pulp import *", 
      "import urllib", 
      "", 
      "prob = LpProblem(\"Assets\", LpMinimize)"
     ], 
     "language": "python", 
     "outputs": [], 
     "prompt_number": 1
    }, 
    {
     "cell_type": "markdown", 
     "source": [
      "For our purposes, the account balances are fixed, and we want to be able to optimize the share placement within these three accounts."
     ]
    }, 
    {
     "cell_type": "code", 
     "collapsed": true, 
     "input": [
      "account_value = { '401k'     : 100000,", 
      "                  'ira'      :  50000,", 
      "                  'personal' : 100000 }", 
      "v_total = sum(account_value.values())"
     ], 
     "language": "python", 
     "outputs": [], 
     "prompt_number": 2
    }, 
    {
     "cell_type": "markdown", 
     "source": [
      "Here's our basic asset allocation: 80% stocks, 20% bonds.  10% of the stock allocation is in REITs, the rest is split evenly between US and International.  This is not necessarily the best, or even a good, asset allocation, but it's chosen for numerical convenience and to set up multiple interesting asset classes. The allocation can be expanded or reduced depending on your actual allocation.  Given this breakdown, we'll compute the actual dollar values we want for each asset class."
     ]
    }, 
    {
     "cell_type": "code", 
     "collapsed": false, 
     "input": [
      "allocation = { 'stock_us'   : 0.36,", 
      "               'stock_intl' : 0.36,", 
      "               'reit'       : 0.08,", 
      "               'bond'       : 0.20 }"
     ], 
     "language": "python", 
     "outputs": [], 
     "prompt_number": 3
    }, 
    {
     "cell_type": "code", 
     "collapsed": true, 
     "input": [
      "ideal_value = {}", 
      "for asset_class in allocation.keys():", 
      "    ideal_value[asset_class] = allocation[asset_class] * v_total"
     ], 
     "language": "python", 
     "outputs": [], 
     "prompt_number": 4
    }, 
    {
     "cell_type": "markdown", 
     "source": [
      "These are my fund choices.  For the 401(k), I have a fixed set of options, which are fortunately <em>very</em> good.  Due to tax considerations, in my", 
      "personal account I'll only hold equities.  For the IRA, I've allowed REITs and stocks because, at a high-level, I can see that Bonds will be fully occupied in the 401(k).  We could just as easily add a bond fund to the IRA, it would just end up at 0."
     ]
    }, 
    {
     "cell_type": "code", 
     "collapsed": true, 
     "input": [
      "assets = {'401k'     : [ 'VEMPX', 'VTPSX', 'VGSNX', 'VIIIX', 'VBMPX'  ],", 
      "          'ira'      : [ 'VTIAX', 'VTSAX', 'VGSLX' ],", 
      "          'personal' : [ 'VTSAX', 'VFWAX' ] }"
     ], 
     "language": "python", 
     "outputs": [], 
     "prompt_number": 5
    }, 
    {
     "cell_type": "code", 
     "collapsed": true, 
     "input": [
      "funds = { 'VEMPX' : { 'er' : 0.1,", 
      "                      'composition' : { 'stock_us' : 1 } },", 
      "          'VTPSX' : { 'er' : 0.1,", 
      "                      'composition' : { 'stock_intl' : 1 } },", 
      "          'VGSNX' : { 'er' : 0.08,", 
      "                      'composition' : { 'reit' : 1 } },", 
      "          'VIIIX' : { 'er' : 0.02,", 
      "                      'composition' : { 'stock_us' : 1 } },", 
      "          'VBMPX' : { 'er' : 0.05,", 
      "                      'composition' : { 'bond' : 1 } },", 
      "          'VTIAX' : { 'er' : 0.16,", 
      "                      'composition' : { 'stock_intl' : 1 } },", 
      "          'VTSAX' : { 'er' : 0.05,", 
      "                      'composition' : { 'stock_us' : 1 } },", 
      "          'VGSLX' : { 'er' : 0.1,", 
      "                      'composition' : { 'reit' : 1 } },", 
      "          'VFSVX' : { 'er' : 0.45,", 
      "                      'composition' : { 'stock_intl' : 1 } },", 
      "          'VSIAX' : { 'er' : 0.1,", 
      "                      'composition' : { 'stock_us' : 1 } },", 
      "          'VFWAX' : { 'er' : 0.15,", 
      "                      'composition' : { 'stock_intl' : 1 } } }"
     ], 
     "language": "python", 
     "outputs": [], 
     "prompt_number": 6
    }, 
    {
     "cell_type": "markdown", 
     "source": [
      "Next, we'll want to look up current prices for each fund from Yahoo! Finance using urllib (if it supported it, we would also grab expense ratio here)."
     ]
    }, 
    {
     "cell_type": "code", 
     "collapsed": false, 
     "input": [
      "for fund in funds.keys():", 
      "    params = urllib.urlencode({ 's' : fund, 'f' : 'l1', 'e' : '.csv' })                  ", 
      "    f = urllib.urlopen(\"http://download.finance.yahoo.com/d/quotes.csv\", params)", 
      "    funds[fund]['price'] = float(f.read())", 
      "    print fund, '@', funds[fund]['price']"
     ], 
     "language": "python", 
     "outputs": [
      {
       "output_type": "stream", 
       "stream": "stdout", 
       "text": [
        "VTSAX @ 45.62", 
        "VIIIX"
       ]
      }, 
      {
       "output_type": "stream", 
       "stream": "stdout", 
       "text": [
        " @ 165.66", 
        "VSIAX"
       ]
      }, 
      {
       "output_type": "stream", 
       "stream": "stdout", 
       "text": [
        " @ 41.32", 
        "VGSNX"
       ]
      }, 
      {
       "output_type": "stream", 
       "stream": "stdout", 
       "text": [
        " @ 14.37", 
        "VEMPX"
       ]
      }, 
      {
       "output_type": "stream", 
       "stream": "stdout", 
       "text": [
        " @ 151.46", 
        "VFWAX"
       ]
      }, 
      {
       "output_type": "stream", 
       "stream": "stdout", 
       "text": [
        " @ 31.05", 
        "VTPSX"
       ]
      }, 
      {
       "output_type": "stream", 
       "stream": "stdout", 
       "text": [
        " @ 110.92", 
        "VBMPX"
       ]
      }, 
      {
       "output_type": "stream", 
       "stream": "stdout", 
       "text": [
        " @ 10.67", 
        "VFSVX"
       ]
      }, 
      {
       "output_type": "stream", 
       "stream": "stdout", 
       "text": [
        " @ 38.62", 
        "VTIAX"
       ]
      }, 
      {
       "output_type": "stream", 
       "stream": "stdout", 
       "text": [
        " @ 27.73", 
        "VGSLX"
       ]
      }, 
      {
       "output_type": "stream", 
       "stream": "stdout", 
       "text": [
        " @ 92.84"
       ]
      }
     ], 
     "prompt_number": 7
    }, 
    {
     "cell_type": "markdown", 
     "source": [
      "We've set up the basic data of interest, so now it's time to get into the meat of the problem.  We begin by creating our variables for the linear programming problem, representing the number of shares we want to hold of each fund within each account.  We'll represent these variables of the form 'account:fund' (e.g. '401k:VBMPX')"
     ]
    }, 
    {
     "cell_type": "code", 
     "collapsed": true, 
     "input": [
      "shares = {}", 
      "", 
      "for account in assets.keys():", 
      "    shares[account] = {}", 
      "    for fund in assets[account]:", 
      "        shares[account][fund] = LpVariable(account + ':' + fund, 0, None)"
     ], 
     "language": "python", 
     "outputs": [], 
     "prompt_number": 8
    }, 
    {
     "cell_type": "markdown", 
     "source": [
      "We need to state what we're going to minimize, so we begin by calculating the expenses associated with each account, the product of price, shares, and expense ratio."
     ]
    }, 
    {
     "cell_type": "code", 
     "collapsed": true, 
     "input": [
      "prob += (sum([funds[x]['er'] * funds[x]['price'] * shares['401k'][x] for x in            ", 
      "              shares['401k'].keys()]) +", 
      "         sum([funds[x]['er'] * funds[x]['price'] * shares['ira'][x] for x in", 
      "              shares['ira'].keys()]) +", 
      "         sum([funds[x]['er'] * funds[x]['price'] * shares['personal'][x] for x in", 
      "              shares['personal'].keys()]))"
     ], 
     "language": "python", 
     "outputs": [], 
     "prompt_number": 9
    }, 
    {
     "cell_type": "markdown", 
     "source": [
      "Next, we want to create some constraints on the solutions.  First, our account balances should be fixed, so for each account, the sum of the product of price and shares is a fixed value."
     ]
    }, 
    {
     "cell_type": "code", 
     "collapsed": false, 
     "input": [
      "prob += (sum([funds[x]['price'] * shares['401k'][x] for x in", 
      "              shares['401k'].keys()]) == account_value['401k'])", 
      "prob += (sum([funds[x]['price'] * shares['ira'][x] for x in", 
      "              shares['ira'].keys()]) == account_value['ira'])", 
      "prob += (sum([funds[x]['price'] * shares['personal'][x] for x in", 
      "              shares['personal'].keys()]) == account_value['personal'])"
     ], 
     "language": "python", 
     "outputs": [], 
     "prompt_number": 10
    }, 
    {
     "cell_type": "markdown", 
     "source": [
      "Now, here's an example of constraint between funds.  My 401(k) offers VIIIX and VEMPX which are the S&P 500 and S&P Completion Index, but if I hold them I want to approximate the total US market.  The appropriate ratio to achieve the total US market is 0.82:0.18 by value."
     ]
    }, 
    {
     "cell_type": "code", 
     "collapsed": true, 
     "input": [
      "prob += (0.18 * funds['VIIIX']['price'] * shares['401k']['VIIIX'] -", 
      "         0.82 * funds['VEMPX']['price'] * shares['401k']['VEMPX'] == 0)"
     ], 
     "language": "python", 
     "outputs": [], 
     "prompt_number": 11
    }, 
    {
     "cell_type": "markdown", 
     "source": [
      "We'll create constraints for each of the asset classes we have to ensure that the total holdings across all accounts match the correct value."
     ]
    }, 
    {
     "cell_type": "code", 
     "collapsed": true, 
     "input": [
      "prob += (funds['VEMPX']['price'] * shares['401k']['VEMPX'] +", 
      "         funds['VIIIX']['price'] * shares['401k']['VIIIX'] +", 
      "         funds['VTSAX']['price'] * shares['ira']['VTSAX'] +", 
      "         funds['VTSAX']['price'] * shares['personal']['VTSAX'] ==", 
      "         ideal_value['stock_us'])"
     ], 
     "language": "python", 
     "outputs": [], 
     "prompt_number": 12
    }, 
    {
     "cell_type": "code", 
     "collapsed": true, 
     "input": [
      "prob += (funds['VTPSX']['price'] * shares['401k']['VTPSX'] +", 
      "         funds['VTIAX']['price'] * shares['ira']['VTIAX'] +", 
      "         funds['VFWAX']['price'] * shares['personal']['VFWAX'] ==", 
      "         ideal_value['stock_intl'])"
     ], 
     "language": "python", 
     "outputs": [], 
     "prompt_number": 13
    }, 
    {
     "cell_type": "code", 
     "collapsed": true, 
     "input": [
      "prob += (funds['VGSNX']['price'] * shares['401k']['VGSNX'] +", 
      "         funds['VGSLX']['price'] * shares['ira']['VGSLX'] ==", 
      "         ideal_value['reit'])"
     ], 
     "language": "python", 
     "outputs": [], 
     "prompt_number": 14
    }, 
    {
     "cell_type": "code", 
     "collapsed": true, 
     "input": [
      "prob += (funds['VBMPX']['price'] * shares['401k']['VBMPX'] ==", 
      "         ideal_value['bond'])"
     ], 
     "language": "python", 
     "outputs": [], 
     "prompt_number": 15
    }, 
    {
     "cell_type": "markdown", 
     "source": [
      "One last optional bit, I prefer to hold more than the Vanguard Admiral minima, so I set a constraint at 110% of the threshold."
     ]
    }, 
    {
     "cell_type": "code", 
     "collapsed": false, 
     "input": [
      "prob += (funds['VTSAX']['price'] * shares['ira']['VTSAX'] >= 11000)", 
      "prob += (funds['VGSLX']['price'] * shares['ira']['VGSLX'] >= 11000)", 
      "prob += (funds['VFWAX']['price'] * shares['personal']['VFWAX'] >= 11000)"
     ], 
     "language": "python", 
     "outputs": [], 
     "prompt_number": 16
    }, 
    {
     "cell_type": "markdown", 
     "source": [
      "All of the constraints are set up, so we're ready to optimize our expense ratio.  We'll print out the share holdings for the optimal fund allocation, and the final overall expense ratio."
     ]
    }, 
    {
     "cell_type": "code", 
     "collapsed": false, 
     "input": [
      "prob.solve()", 
      "", 
      "print \"Status: \", LpStatus[prob.status]", 
      "", 
      "for v in prob.variables():", 
      "    print v.name, \"=\", v.varValue", 
      "", 
      "print \"Blended expense ratio\", value(prob.objective)/v_total"
     ], 
     "language": "python", 
     "outputs": [
      {
       "output_type": "stream", 
       "stream": "stdout", 
       "text": [
        "Status:  Optimal", 
        "401k:VBMPX = 4686.0356", 
        "401k:VEMPX = -0.0", 
        "401k:VGSNX = 0.0", 
        "401k:VIIIX = 0.0", 
        "401k:VTPSX = 450.77533", 
        "ira:VGSLX = 215.42439", 
        "ira:VTIAX = 0.0", 
        "ira:VTSAX = 657.60631", 
        "personal:VFWAX = 1288.2448", 
        "personal:VTSAX = 1315.2126", 
        "Blended expense ratio 0.0800000003177"
       ]
      }
     ], 
     "prompt_number": 18
    }
   ]
  }
 ]
}